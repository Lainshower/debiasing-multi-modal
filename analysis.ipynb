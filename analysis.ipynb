{
 "cells": [
  {
   "cell_type": "code",
   "execution_count": 28,
   "metadata": {},
   "outputs": [],
   "source": [
    "import pandas as pd"
   ]
  },
  {
   "cell_type": "code",
   "execution_count": 44,
   "metadata": {},
   "outputs": [],
   "source": [
    "w  = pd.read_json(\"/home/user122b/joonwon/debiasing/data/embeddings/waterbirds/RN50/embedding_prediction.json\").T"
   ]
  },
  {
   "cell_type": "code",
   "execution_count": 45,
   "metadata": {},
   "outputs": [
    {
     "data": {
      "text/html": [
       "<div>\n",
       "<style scoped>\n",
       "    .dataframe tbody tr th:only-of-type {\n",
       "        vertical-align: middle;\n",
       "    }\n",
       "\n",
       "    .dataframe tbody tr th {\n",
       "        vertical-align: top;\n",
       "    }\n",
       "\n",
       "    .dataframe thead th {\n",
       "        text-align: right;\n",
       "    }\n",
       "</style>\n",
       "<table border=\"1\" class=\"dataframe\">\n",
       "  <thead>\n",
       "    <tr style=\"text-align: right;\">\n",
       "      <th></th>\n",
       "      <th>y</th>\n",
       "      <th>place</th>\n",
       "      <th>group</th>\n",
       "      <th>split</th>\n",
       "      <th>image_embedding</th>\n",
       "      <th>y_pred</th>\n",
       "    </tr>\n",
       "  </thead>\n",
       "  <tbody>\n",
       "    <tr>\n",
       "      <th>001.Black_footed_Albatross/Black_Footed_Albatross_0009_34.jpg</th>\n",
       "      <td>1</td>\n",
       "      <td>1</td>\n",
       "      <td>3</td>\n",
       "      <td>0</td>\n",
       "      <td>[0.012451171875, 0.007728576660156, 0.02249145...</td>\n",
       "      <td>0</td>\n",
       "    </tr>\n",
       "    <tr>\n",
       "      <th>001.Black_footed_Albatross/Black_Footed_Albatross_0074_59.jpg</th>\n",
       "      <td>1</td>\n",
       "      <td>1</td>\n",
       "      <td>3</td>\n",
       "      <td>0</td>\n",
       "      <td>[-0.012626647949218, -0.015312194824218, 0.005...</td>\n",
       "      <td>1</td>\n",
       "    </tr>\n",
       "    <tr>\n",
       "      <th>001.Black_footed_Albatross/Black_Footed_Albatross_0014_89.jpg</th>\n",
       "      <td>1</td>\n",
       "      <td>1</td>\n",
       "      <td>3</td>\n",
       "      <td>0</td>\n",
       "      <td>[-0.007156372070312, -0.007865905761718, -0.00...</td>\n",
       "      <td>1</td>\n",
       "    </tr>\n",
       "    <tr>\n",
       "      <th>001.Black_footed_Albatross/Black_Footed_Albatross_0031_100.jpg</th>\n",
       "      <td>1</td>\n",
       "      <td>1</td>\n",
       "      <td>3</td>\n",
       "      <td>0</td>\n",
       "      <td>[-0.000547409057617, -0.009010314941406, 0.025...</td>\n",
       "      <td>1</td>\n",
       "    </tr>\n",
       "    <tr>\n",
       "      <th>001.Black_footed_Albatross/Black_Footed_Albatross_0010_796097.jpg</th>\n",
       "      <td>1</td>\n",
       "      <td>1</td>\n",
       "      <td>3</td>\n",
       "      <td>0</td>\n",
       "      <td>[-0.002281188964843, 0.008888244628906, 0.0137...</td>\n",
       "      <td>0</td>\n",
       "    </tr>\n",
       "    <tr>\n",
       "      <th>...</th>\n",
       "      <td>...</td>\n",
       "      <td>...</td>\n",
       "      <td>...</td>\n",
       "      <td>...</td>\n",
       "      <td>...</td>\n",
       "      <td>...</td>\n",
       "    </tr>\n",
       "    <tr>\n",
       "      <th>200.Common_Yellowthroat/Common_Yellowthroat_0040_190427.jpg</th>\n",
       "      <td>0</td>\n",
       "      <td>1</td>\n",
       "      <td>1</td>\n",
       "      <td>2</td>\n",
       "      <td>[-0.000792503356933, -0.010055541992187, -0.02...</td>\n",
       "      <td>0</td>\n",
       "    </tr>\n",
       "    <tr>\n",
       "      <th>200.Common_Yellowthroat/Common_Yellowthroat_0063_190440.jpg</th>\n",
       "      <td>0</td>\n",
       "      <td>1</td>\n",
       "      <td>1</td>\n",
       "      <td>2</td>\n",
       "      <td>[0.005886077880859, 0.007251739501953001, -0.0...</td>\n",
       "      <td>0</td>\n",
       "    </tr>\n",
       "    <tr>\n",
       "      <th>200.Common_Yellowthroat/Common_Yellowthroat_0058_190958.jpg</th>\n",
       "      <td>0</td>\n",
       "      <td>0</td>\n",
       "      <td>0</td>\n",
       "      <td>2</td>\n",
       "      <td>[-0.007377624511718001, 0.020462036132812, 0.0...</td>\n",
       "      <td>0</td>\n",
       "    </tr>\n",
       "    <tr>\n",
       "      <th>200.Common_Yellowthroat/Common_Yellowthroat_0008_190703.jpg</th>\n",
       "      <td>0</td>\n",
       "      <td>0</td>\n",
       "      <td>0</td>\n",
       "      <td>2</td>\n",
       "      <td>[0.014640808105468, 0.001270294189453, 0.01480...</td>\n",
       "      <td>0</td>\n",
       "    </tr>\n",
       "    <tr>\n",
       "      <th>200.Common_Yellowthroat/Common_Yellowthroat_0055_190967.jpg</th>\n",
       "      <td>0</td>\n",
       "      <td>1</td>\n",
       "      <td>1</td>\n",
       "      <td>2</td>\n",
       "      <td>[0.012786865234375002, 0.0130615234375, 0.0133...</td>\n",
       "      <td>0</td>\n",
       "    </tr>\n",
       "  </tbody>\n",
       "</table>\n",
       "<p>11788 rows × 6 columns</p>\n",
       "</div>"
      ],
      "text/plain": [
       "                                                    y place group split   \n",
       "001.Black_footed_Albatross/Black_Footed_Albatro...  1     1     3     0  \\\n",
       "001.Black_footed_Albatross/Black_Footed_Albatro...  1     1     3     0   \n",
       "001.Black_footed_Albatross/Black_Footed_Albatro...  1     1     3     0   \n",
       "001.Black_footed_Albatross/Black_Footed_Albatro...  1     1     3     0   \n",
       "001.Black_footed_Albatross/Black_Footed_Albatro...  1     1     3     0   \n",
       "...                                                ..   ...   ...   ...   \n",
       "200.Common_Yellowthroat/Common_Yellowthroat_004...  0     1     1     2   \n",
       "200.Common_Yellowthroat/Common_Yellowthroat_006...  0     1     1     2   \n",
       "200.Common_Yellowthroat/Common_Yellowthroat_005...  0     0     0     2   \n",
       "200.Common_Yellowthroat/Common_Yellowthroat_000...  0     0     0     2   \n",
       "200.Common_Yellowthroat/Common_Yellowthroat_005...  0     1     1     2   \n",
       "\n",
       "                                                                                      image_embedding   \n",
       "001.Black_footed_Albatross/Black_Footed_Albatro...  [0.012451171875, 0.007728576660156, 0.02249145...  \\\n",
       "001.Black_footed_Albatross/Black_Footed_Albatro...  [-0.012626647949218, -0.015312194824218, 0.005...   \n",
       "001.Black_footed_Albatross/Black_Footed_Albatro...  [-0.007156372070312, -0.007865905761718, -0.00...   \n",
       "001.Black_footed_Albatross/Black_Footed_Albatro...  [-0.000547409057617, -0.009010314941406, 0.025...   \n",
       "001.Black_footed_Albatross/Black_Footed_Albatro...  [-0.002281188964843, 0.008888244628906, 0.0137...   \n",
       "...                                                                                               ...   \n",
       "200.Common_Yellowthroat/Common_Yellowthroat_004...  [-0.000792503356933, -0.010055541992187, -0.02...   \n",
       "200.Common_Yellowthroat/Common_Yellowthroat_006...  [0.005886077880859, 0.007251739501953001, -0.0...   \n",
       "200.Common_Yellowthroat/Common_Yellowthroat_005...  [-0.007377624511718001, 0.020462036132812, 0.0...   \n",
       "200.Common_Yellowthroat/Common_Yellowthroat_000...  [0.014640808105468, 0.001270294189453, 0.01480...   \n",
       "200.Common_Yellowthroat/Common_Yellowthroat_005...  [0.012786865234375002, 0.0130615234375, 0.0133...   \n",
       "\n",
       "                                                   y_pred  \n",
       "001.Black_footed_Albatross/Black_Footed_Albatro...      0  \n",
       "001.Black_footed_Albatross/Black_Footed_Albatro...      1  \n",
       "001.Black_footed_Albatross/Black_Footed_Albatro...      1  \n",
       "001.Black_footed_Albatross/Black_Footed_Albatro...      1  \n",
       "001.Black_footed_Albatross/Black_Footed_Albatro...      0  \n",
       "...                                                   ...  \n",
       "200.Common_Yellowthroat/Common_Yellowthroat_004...      0  \n",
       "200.Common_Yellowthroat/Common_Yellowthroat_006...      0  \n",
       "200.Common_Yellowthroat/Common_Yellowthroat_005...      0  \n",
       "200.Common_Yellowthroat/Common_Yellowthroat_000...      0  \n",
       "200.Common_Yellowthroat/Common_Yellowthroat_005...      0  \n",
       "\n",
       "[11788 rows x 6 columns]"
      ]
     },
     "execution_count": 45,
     "metadata": {},
     "output_type": "execute_result"
    }
   ],
   "source": [
    "w"
   ]
  },
  {
   "cell_type": "code",
   "execution_count": 51,
   "metadata": {},
   "outputs": [
    {
     "name": "stdout",
     "output_type": "stream",
     "text": [
      "1057\n",
      "133\n",
      "642\n"
     ]
    }
   ],
   "source": [
    "for s in ['0', '1', '2']:\n",
    "    print(len(w[(w['split']==s) & (w['place']=='1') & (w['y']=='1')]))"
   ]
  },
  {
   "cell_type": "code",
   "execution_count": 43,
   "metadata": {},
   "outputs": [
    {
     "data": {
      "text/plain": [
       "0.3894080996884735"
      ]
     },
     "execution_count": 43,
     "metadata": {},
     "output_type": "execute_result"
    }
   ],
   "source": [
    "len(w[(w['split']=='2') & (w['place']=='0') & (w['y']=='1') & (w['y_pred']=='1')]) / len(w[(w['split']=='2') & (w['y']=='1') & (w['place']=='0')])"
   ]
  },
  {
   "cell_type": "code",
   "execution_count": 15,
   "metadata": {},
   "outputs": [
    {
     "data": {
      "text/plain": [
       "642"
      ]
     },
     "execution_count": 15,
     "metadata": {},
     "output_type": "execute_result"
    }
   ],
   "source": [
    "len(w[(w['split']=='2') & (w['y']=='1') & (w['place']=='0')])"
   ]
  },
  {
   "cell_type": "code",
   "execution_count": 56,
   "metadata": {},
   "outputs": [],
   "source": [
    "c = pd.read_json(\"/home/user122b/joonwon/debiasing/data/embeddings_unnormalized/celeba/RN50/embedding_prediction.json\").T"
   ]
  },
  {
   "cell_type": "code",
   "execution_count": 57,
   "metadata": {},
   "outputs": [
    {
     "data": {
      "text/html": [
       "<div>\n",
       "<style scoped>\n",
       "    .dataframe tbody tr th:only-of-type {\n",
       "        vertical-align: middle;\n",
       "    }\n",
       "\n",
       "    .dataframe tbody tr th {\n",
       "        vertical-align: top;\n",
       "    }\n",
       "\n",
       "    .dataframe thead th {\n",
       "        text-align: right;\n",
       "    }\n",
       "</style>\n",
       "<table border=\"1\" class=\"dataframe\">\n",
       "  <thead>\n",
       "    <tr style=\"text-align: right;\">\n",
       "      <th></th>\n",
       "      <th>blond</th>\n",
       "      <th>male</th>\n",
       "      <th>group</th>\n",
       "      <th>split</th>\n",
       "      <th>image_embedding</th>\n",
       "      <th>y_pred</th>\n",
       "    </tr>\n",
       "  </thead>\n",
       "  <tbody>\n",
       "    <tr>\n",
       "      <th>000001.jpg</th>\n",
       "      <td>0</td>\n",
       "      <td>0</td>\n",
       "      <td>0</td>\n",
       "      <td>0</td>\n",
       "      <td>[-0.016799926757812, 0.011703491210937, -0.001...</td>\n",
       "      <td>0</td>\n",
       "    </tr>\n",
       "    <tr>\n",
       "      <th>000002.jpg</th>\n",
       "      <td>0</td>\n",
       "      <td>0</td>\n",
       "      <td>0</td>\n",
       "      <td>0</td>\n",
       "      <td>[-0.0244140625, 5.364418029785156e-06, 0.05282...</td>\n",
       "      <td>0</td>\n",
       "    </tr>\n",
       "    <tr>\n",
       "      <th>000003.jpg</th>\n",
       "      <td>0</td>\n",
       "      <td>1</td>\n",
       "      <td>1</td>\n",
       "      <td>0</td>\n",
       "      <td>[-0.033416748046875, -0.0206298828125, -0.0043...</td>\n",
       "      <td>1</td>\n",
       "    </tr>\n",
       "    <tr>\n",
       "      <th>000004.jpg</th>\n",
       "      <td>0</td>\n",
       "      <td>0</td>\n",
       "      <td>0</td>\n",
       "      <td>0</td>\n",
       "      <td>[0.015357971191406002, 0.010200500488281, -0.0...</td>\n",
       "      <td>0</td>\n",
       "    </tr>\n",
       "    <tr>\n",
       "      <th>000005.jpg</th>\n",
       "      <td>0</td>\n",
       "      <td>0</td>\n",
       "      <td>0</td>\n",
       "      <td>0</td>\n",
       "      <td>[-0.03857421875, -0.026611328125, -0.002300262...</td>\n",
       "      <td>1</td>\n",
       "    </tr>\n",
       "    <tr>\n",
       "      <th>...</th>\n",
       "      <td>...</td>\n",
       "      <td>...</td>\n",
       "      <td>...</td>\n",
       "      <td>...</td>\n",
       "      <td>...</td>\n",
       "      <td>...</td>\n",
       "    </tr>\n",
       "    <tr>\n",
       "      <th>202595.jpg</th>\n",
       "      <td>1</td>\n",
       "      <td>0</td>\n",
       "      <td>2</td>\n",
       "      <td>2</td>\n",
       "      <td>[-0.0286865234375, 0.025253295898437, 0.103759...</td>\n",
       "      <td>1</td>\n",
       "    </tr>\n",
       "    <tr>\n",
       "      <th>202596.jpg</th>\n",
       "      <td>1</td>\n",
       "      <td>1</td>\n",
       "      <td>3</td>\n",
       "      <td>2</td>\n",
       "      <td>[0.008415222167968, 0.008773803710937, 0.01405...</td>\n",
       "      <td>1</td>\n",
       "    </tr>\n",
       "    <tr>\n",
       "      <th>202597.jpg</th>\n",
       "      <td>0</td>\n",
       "      <td>1</td>\n",
       "      <td>1</td>\n",
       "      <td>2</td>\n",
       "      <td>[0.012748718261718, 0.021621704101562, 0.02464...</td>\n",
       "      <td>0</td>\n",
       "    </tr>\n",
       "    <tr>\n",
       "      <th>202598.jpg</th>\n",
       "      <td>0</td>\n",
       "      <td>0</td>\n",
       "      <td>0</td>\n",
       "      <td>2</td>\n",
       "      <td>[0.07537841796875, 0.015251159667968, -0.02629...</td>\n",
       "      <td>0</td>\n",
       "    </tr>\n",
       "    <tr>\n",
       "      <th>202599.jpg</th>\n",
       "      <td>1</td>\n",
       "      <td>0</td>\n",
       "      <td>2</td>\n",
       "      <td>2</td>\n",
       "      <td>[0.01580810546875, -0.001852989196777, 0.05526...</td>\n",
       "      <td>1</td>\n",
       "    </tr>\n",
       "  </tbody>\n",
       "</table>\n",
       "<p>202599 rows × 6 columns</p>\n",
       "</div>"
      ],
      "text/plain": [
       "           blond male group split   \n",
       "000001.jpg     0    0     0     0  \\\n",
       "000002.jpg     0    0     0     0   \n",
       "000003.jpg     0    1     1     0   \n",
       "000004.jpg     0    0     0     0   \n",
       "000005.jpg     0    0     0     0   \n",
       "...          ...  ...   ...   ...   \n",
       "202595.jpg     1    0     2     2   \n",
       "202596.jpg     1    1     3     2   \n",
       "202597.jpg     0    1     1     2   \n",
       "202598.jpg     0    0     0     2   \n",
       "202599.jpg     1    0     2     2   \n",
       "\n",
       "                                              image_embedding y_pred  \n",
       "000001.jpg  [-0.016799926757812, 0.011703491210937, -0.001...      0  \n",
       "000002.jpg  [-0.0244140625, 5.364418029785156e-06, 0.05282...      0  \n",
       "000003.jpg  [-0.033416748046875, -0.0206298828125, -0.0043...      1  \n",
       "000004.jpg  [0.015357971191406002, 0.010200500488281, -0.0...      0  \n",
       "000005.jpg  [-0.03857421875, -0.026611328125, -0.002300262...      1  \n",
       "...                                                       ...    ...  \n",
       "202595.jpg  [-0.0286865234375, 0.025253295898437, 0.103759...      1  \n",
       "202596.jpg  [0.008415222167968, 0.008773803710937, 0.01405...      1  \n",
       "202597.jpg  [0.012748718261718, 0.021621704101562, 0.02464...      0  \n",
       "202598.jpg  [0.07537841796875, 0.015251159667968, -0.02629...      0  \n",
       "202599.jpg  [0.01580810546875, -0.001852989196777, 0.05526...      1  \n",
       "\n",
       "[202599 rows x 6 columns]"
      ]
     },
     "execution_count": 57,
     "metadata": {},
     "output_type": "execute_result"
    }
   ],
   "source": [
    "c"
   ]
  },
  {
   "cell_type": "code",
   "execution_count": 55,
   "metadata": {},
   "outputs": [
    {
     "name": "stdout",
     "output_type": "stream",
     "text": [
      "71629\n",
      "8535\n",
      "9767\n"
     ]
    }
   ],
   "source": [
    "for s in ['0', '1', '2']:\n",
    "    print(len(c[(c['split']==s) & (c['blond']=='0') & (c['male']=='0')]))"
   ]
  },
  {
   "cell_type": "code",
   "execution_count": 36,
   "metadata": {},
   "outputs": [
    {
     "data": {
      "text/plain": [
       "145"
      ]
     },
     "execution_count": 36,
     "metadata": {},
     "output_type": "execute_result"
    }
   ],
   "source": [
    "len(c[(c['split']=='2') & (c['blond']=='1') & (c['male']=='1')& (c['y_pred']=='1')])"
   ]
  },
  {
   "cell_type": "code",
   "execution_count": 58,
   "metadata": {},
   "outputs": [
    {
     "data": {
      "text/plain": [
       "0.8055555555555556"
      ]
     },
     "execution_count": 58,
     "metadata": {},
     "output_type": "execute_result"
    }
   ],
   "source": [
    "len(c[(c['split']=='2') & (c['blond']=='1') & (c['male']=='1')& (c['y_pred']=='1')])/len(c[(c['split']=='2') & (c['blond']=='1') & (c['male']=='1')])"
   ]
  }
 ],
 "metadata": {
  "kernelspec": {
   "display_name": "bias",
   "language": "python",
   "name": "python3"
  },
  "language_info": {
   "codemirror_mode": {
    "name": "ipython",
    "version": 3
   },
   "file_extension": ".py",
   "mimetype": "text/x-python",
   "name": "python",
   "nbconvert_exporter": "python",
   "pygments_lexer": "ipython3",
   "version": "3.8.13"
  },
  "orig_nbformat": 4
 },
 "nbformat": 4,
 "nbformat_minor": 2
}
